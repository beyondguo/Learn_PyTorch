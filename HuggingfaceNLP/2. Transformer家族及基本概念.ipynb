{
 "cells": [
  {
   "cell_type": "markdown",
   "metadata": {},
   "source": [
    "# Transformer家族分类"
   ]
  },
  {
   "cell_type": "markdown",
   "metadata": {},
   "source": [
    "|类型|使用的Model |\tExamples |\tTasks|\n",
    "|--|--- |\t--- |\t---|\n",
    "|BERT-like (also called auto-encoding Transformer models) |\tEncoder  |\t\tALBERT, BERT, DistilBERT, ELECTRA, RoBERTa | \tSentence classification, named entity recognition, extractive question answering|\n",
    "|GPT-like (also called auto-regressive Transformer models) |\tDecoder  |\t\tCTRL, GPT, GPT-2, Transformer XL |\t \tText generation|\n",
    "|BART/T5-like (also called sequence-to-sequence Transformer models)|\tEncoder-decoder  |\t\tBART, T5, Marian, mBART |\t \tSummarization, translation, generative question answering|\n"
   ]
  },
  {
   "cell_type": "markdown",
   "metadata": {},
   "source": [
    "一些重要概念：\n",
    "\n",
    "- causal language modeling：预测下一个词的语言模型建模方式\n",
    "- masked language modeling：预测中间某个被masked的词的建模方式"
   ]
  },
  {
   "cell_type": "code",
   "execution_count": null,
   "metadata": {},
   "outputs": [],
   "source": []
  }
 ],
 "metadata": {
  "kernelspec": {
   "display_name": "Python 3",
   "language": "python",
   "name": "python3"
  },
  "language_info": {
   "codemirror_mode": {
    "name": "ipython",
    "version": 3
   },
   "file_extension": ".py",
   "mimetype": "text/x-python",
   "name": "python",
   "nbconvert_exporter": "python",
   "pygments_lexer": "ipython3",
   "version": "3.7.6"
  }
 },
 "nbformat": 4,
 "nbformat_minor": 4
}
