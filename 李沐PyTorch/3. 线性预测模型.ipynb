{
 "cells": [
  {
   "cell_type": "markdown",
   "id": "a7a017f6",
   "metadata": {},
   "source": [
    "# 一、从零实现一个线性模型"
   ]
  },
  {
   "cell_type": "markdown",
   "id": "f938fa10",
   "metadata": {},
   "source": [
    "# 1. 构造一个数据集"
   ]
  },
  {
   "cell_type": "code",
   "execution_count": 27,
   "id": "c4ad92a7",
   "metadata": {},
   "outputs": [],
   "source": [
    "import random\n",
    "import numpy as np\n",
    "import torch"
   ]
  },
  {
   "cell_type": "code",
   "execution_count": 83,
   "id": "9b2cafef",
   "metadata": {},
   "outputs": [],
   "source": [
    "#手工构造一个数据集\n",
    "# y = Wx+b+e\n",
    "\n",
    "def synthetic_data(w, b, num_examples):\n",
    "    \"\"\"\n",
    "    w: a list of weights\n",
    "    b: bias\n",
    "    num_examples: namely\n",
    "    \"\"\"\n",
    "    X = np.random.normal(0, 1,(num_examples, len(w)))  # X服从0~1的正态分布\n",
    "    y = np.matmul(X, w) + b\n",
    "    y += np.random.normal(0, 0.01, y.shape)  # 添加噪音\n",
    "    return X, y.reshape((-1, 1))\n",
    "\n",
    "w_true = np.array([2, -3.4])\n",
    "b_true = 4.2\n",
    "features, labels = synthetic_data(w_true, b_true, 1000)"
   ]
  },
  {
   "cell_type": "code",
   "execution_count": 58,
   "id": "0cb16b27",
   "metadata": {},
   "outputs": [
    {
     "name": "stdout",
     "output_type": "stream",
     "text": [
      "(1000, 2)\n"
     ]
    },
    {
     "data": {
      "text/plain": [
       "(array([[-1.89514136, -0.05785525],\n",
       "        [-0.2005648 ,  0.60202221],\n",
       "        [ 1.04071886, -1.62725927],\n",
       "        [ 0.72767983,  1.28517374],\n",
       "        [-0.90566961,  1.29478896]]),\n",
       " array([[ 0.58655753],\n",
       "        [ 1.75160523],\n",
       "        [11.80399827],\n",
       "        [ 1.28593393],\n",
       "        [-2.01440084]]))"
      ]
     },
     "execution_count": 58,
     "metadata": {},
     "output_type": "execute_result"
    }
   ],
   "source": [
    "print(features.shape)\n",
    "features[:5], labels[:5]"
   ]
  },
  {
   "cell_type": "code",
   "execution_count": 59,
   "id": "e71ce51b",
   "metadata": {},
   "outputs": [
    {
     "data": {
      "text/plain": [
       "<matplotlib.collections.PathCollection at 0x148b453a0>"
      ]
     },
     "execution_count": 59,
     "metadata": {},
     "output_type": "execute_result"
    },
    {
     "data": {
      "image/png": "[encoded data removed]",
      "text/plain": [
       "<Figure size 432x288 with 1 Axes>"
      ]
     },
     "metadata": {
      "needs_background": "light"
     },
     "output_type": "display_data"
    }
   ],
   "source": [
    "import matplotlib.pyplot as plt\n",
    "plt.scatter(features[:, 0], labels)\n",
    "plt.scatter(features[:, 1], labels)"
   ]
  },
  {
   "cell_type": "markdown",
   "id": "eab7bb2d",
   "metadata": {},
   "source": [
    "# 2.构建批量采样函数、模型、损失函数、优化算法"
   ]
  },
  {
   "cell_type": "code",
   "execution_count": 60,
   "id": "51bf90f4",
   "metadata": {},
   "outputs": [],
   "source": [
    "# 数据采样函数\n",
    "def data_iter(batch_size, features, labels):\n",
    "    assert len(features) == len(labels), \"not match\"\n",
    "    num_examples = len(labels)\n",
    "    indices = list(range(num_examples))\n",
    "    random.shuffle(indices)\n",
    "    for i in range(0, num_examples, batch_size):  # 今天才知道range函数还有第三个参数可选！！\n",
    "        batch_features = features[i : i + batch_size]\n",
    "        batch_labels = labels[i : i + batch_size]\n",
    "        yield batch_features, batch_labels"
   ]
  },
  {
   "cell_type": "code",
   "execution_count": 61,
   "id": "3ba53412",
   "metadata": {},
   "outputs": [
    {
     "name": "stdout",
     "output_type": "stream",
     "text": [
      "[0, 1, 2, 3] [1, 1, 1, 1]\n",
      "[4, 5, 6, 7] [1, 1, 1, 1]\n",
      "[8, 9, 10, 11] [1, 1, 1, 1]\n"
     ]
    }
   ],
   "source": [
    "for X, y in data_iter(4,list(range(12)),[1]*12):\n",
    "    print(X, y)"
   ]
  },
  {
   "cell_type": "code",
   "execution_count": 62,
   "id": "c6e94689",
   "metadata": {},
   "outputs": [],
   "source": [
    "# 定义模型\n",
    "def linreg(X, w, b):\n",
    "    return torch.matmul(X, w) + b"
   ]
  },
  {
   "cell_type": "code",
   "execution_count": 63,
   "id": "3f0617a4",
   "metadata": {},
   "outputs": [],
   "source": [
    "# 定义损失函数\n",
    "def squared_loss(y_true, y_pred):\n",
    "    return torch.sum((y_true - y_pred)**2)/2"
   ]
  },
  {
   "cell_type": "code",
   "execution_count": 64,
   "id": "f7ad4e19",
   "metadata": {},
   "outputs": [],
   "source": [
    "# 定义优化算法\n",
    "def sgd(params, lr, batch_size):\n",
    "    \"\"\"\n",
    "    params: a list of params\n",
    "    \"\"\"\n",
    "    with torch.no_grad():  # 设置停止torch的梯度记录\n",
    "        for param in params:\n",
    "            param -= lr * param.grad / batch_size  # 等价于在loss中除以batch_size\n",
    "            param.grad.zero_()  # 重置该参数的梯度，便于下一次计算"
   ]
  },
  {
   "cell_type": "markdown",
   "id": "14180de3",
   "metadata": {},
   "source": [
    "# 3.进行训练"
   ]
  },
  {
   "cell_type": "code",
   "execution_count": 65,
   "id": "c879047d",
   "metadata": {},
   "outputs": [
    {
     "name": "stdout",
     "output_type": "stream",
     "text": [
      "epoch 1, loss 13399.2265625\n",
      "epoch 11, loss 1865.0733642578125\n",
      "epoch 21, loss 260.1598205566406\n",
      "epoch 31, loss 36.40078353881836\n",
      "epoch 41, loss 5.138577461242676\n",
      "epoch 51, loss 0.76097571849823\n",
      "epoch 61, loss 0.1465410739183426\n",
      "epoch 71, loss 0.060093529522418976\n",
      "epoch 81, loss 0.0479029044508934\n",
      "epoch 91, loss 0.04618138074874878\n"
     ]
    }
   ],
   "source": [
    "lr = 0.01\n",
    "epochs = 100\n",
    "batch_size = 100\n",
    "model = linreg\n",
    "loss_func = squared_loss\n",
    "\n",
    "# 参数初始化\n",
    "w = torch.normal(0, 0.01, size=(2, 1), requires_grad=True)\n",
    "b = torch.zeros(1, requires_grad=True)\n",
    "# numpy的数据默认格式为float64，但torch中默认使用float32\n",
    "# 同时，torch模型也不能直接处理numpy数据，需要进行格式转换\n",
    "features = torch.tensor(features, dtype=torch.float32)  \n",
    "labels = torch.tensor(labels, dtype=torch.float32)\n",
    "\n",
    "for i in range(epochs):\n",
    "    for X, y in data_iter(batch_size, features, labels):\n",
    "        y_pred = model(X, w, b)\n",
    "        l = loss_func(y, y_pred)\n",
    "        l.sum().backward()\n",
    "        sgd([w, b], lr, batch_size)\n",
    "    with torch.no_grad():\n",
    "        if i % 10 == 0:\n",
    "            epoch_loss = loss_func(model(features, w, b), labels)\n",
    "            print(f'epoch {i + 1}, loss {float(epoch_loss)}')"
   ]
  },
  {
   "cell_type": "code",
   "execution_count": 74,
   "id": "31b12e90",
   "metadata": {},
   "outputs": [
    {
     "name": "stdout",
     "output_type": "stream",
     "text": [
      "w的估计误差: [-0.0004003  -0.00041475]\n",
      "b的估计误差: -4.100799560369239e-06\n"
     ]
    }
   ],
   "source": [
    "# 由于w带了requires_grad属性，所以要转化成numpy，需要先detach\n",
    "print(f'w的估计误差: {w_true - w.detach().numpy().reshape(w_true.shape)}')\n",
    "print(f'b的估计误差: {b_true - float(b.detach())}')"
   ]
  },
  {
   "cell_type": "markdown",
   "id": "b23f97f6",
   "metadata": {},
   "source": [
    "# 二、利用框架快速实现"
   ]
  },
  {
   "cell_type": "code",
   "execution_count": 85,
   "id": "9b4e96ea",
   "metadata": {},
   "outputs": [],
   "source": [
    "import numpy as np\n",
    "import torch\n",
    "from torch.utils import data"
   ]
  },
  {
   "cell_type": "code",
   "execution_count": 87,
   "id": "bb33afe3",
   "metadata": {},
   "outputs": [],
   "source": [
    "features = torch.tensor(features, dtype=torch.float32)  \n",
    "labels = torch.tensor(labels, dtype=torch.float32)\n",
    "\n",
    "def load_array(data_arrays, batch_size, is_train=True):\n",
    "    \"\"\"构造一个PyTorch数据迭代器\"\"\"\n",
    "    dataset = data.TensorDataset(*data_arrays)\n",
    "    return data.DataLoader(dataset, batch_size, shuffle=is_train)\n",
    "\n",
    "batch_size = 10\n",
    "data_iter = load_array((features, labels), batch_size)"
   ]
  },
  {
   "cell_type": "markdown",
   "id": "ea1349b7",
   "metadata": {},
   "source": [
    "## 简单提一下这里的`TensorDataset`和`DataLoader`\n",
    "`TensorDataset`这玩意儿，我不是很懂有什么大作用。感觉必须配合`DataLoader`使用，因为`Dataloader`接受的就是Dataset格式的输入。\\\n",
    "另外，`TensorDataset`的输入，最常见的就是`(X, y)`，然后返回的dataset就是把二者打包的结果"
   ]
  },
  {
   "cell_type": "code",
   "execution_count": 101,
   "id": "6e27974f",
   "metadata": {},
   "outputs": [
    {
     "name": "stdout",
     "output_type": "stream",
     "text": [
      "(tensor([[1, 2, 3],\n",
      "        [1, 2, 2],\n",
      "        [3, 2, 1]]), tensor([1, 2, 1]))\n"
     ]
    }
   ],
   "source": [
    "# 看看TensorDataset在干嘛：\n",
    "X = torch.tensor([[1,2,3],[1,2,2],[3,2,1]])  # 样本的特征\n",
    "y = torch.tensor([1,2,1])  # 样本的标签\n",
    "dataset = data.TensorDataset(X, y)\n",
    "print(dataset[:])  # 可以看到，就是把输入的X和y打包了，方便DataLoader直接使用"
   ]
  },
  {
   "cell_type": "code",
   "execution_count": 113,
   "id": "0833970a",
   "metadata": {},
   "outputs": [
    {
     "data": {
      "text/plain": [
       "([tensor([[1, 2, 3],\n",
       "          [1, 2, 2]]),\n",
       "  tensor([1, 2])],\n",
       " [tensor([[3, 2, 1]]), tensor([1])])"
      ]
     },
     "execution_count": 113,
     "metadata": {},
     "output_type": "execute_result"
    }
   ],
   "source": [
    "data_iter = data.DataLoader(dataset, batch_size=2)\n",
    "f = iter(data_iter)\n",
    "next(f),next(f)"
   ]
  },
  {
   "cell_type": "code",
   "execution_count": 89,
   "id": "06f6da48",
   "metadata": {},
   "outputs": [
    {
     "data": {
      "text/plain": [
       "tensor([0.])"
      ]
     },
     "execution_count": 89,
     "metadata": {},
     "output_type": "execute_result"
    }
   ],
   "source": [
    "from torch import nn\n",
    "model = nn.Sequential(nn.Linear(2, 1))\n",
    "\n",
    "model[0].weight.data.normal_(0, 0.01)  #  model[0]代表取出模型的第一层，使用.normal_或者.fill_来赋值\n",
    "model[0].bias.data.fill_(0)"
   ]
  },
  {
   "cell_type": "code",
   "execution_count": 90,
   "id": "75cb124f",
   "metadata": {},
   "outputs": [],
   "source": [
    "# 设置损失函数、优化器\n",
    "loss = nn.MSELoss()\n",
    "trainer = torch.optim.SGD(model.parameters(), lr=0.01)"
   ]
  },
  {
   "cell_type": "code",
   "execution_count": 91,
   "id": "5ce3b7c6",
   "metadata": {},
   "outputs": [
    {
     "name": "stdout",
     "output_type": "stream",
     "text": [
      "epoch 0, loss 0.6866896152496338\n",
      "epoch 1, loss 0.01537397038191557\n",
      "epoch 2, loss 0.00043629383435472846\n",
      "epoch 3, loss 0.00010447522799950093\n",
      "epoch 4, loss 9.759785461938009e-05\n",
      "epoch 5, loss 9.739570668898523e-05\n",
      "epoch 6, loss 9.748060256242752e-05\n",
      "epoch 7, loss 9.744378621689975e-05\n",
      "epoch 8, loss 9.740984387462959e-05\n",
      "epoch 9, loss 9.75194270722568e-05\n"
     ]
    }
   ],
   "source": [
    "epochs = 10\n",
    "for i in range(epochs):\n",
    "    for X, y in data_iter:\n",
    "        y_pred = model(X)\n",
    "        l = loss(y_pred, y)\n",
    "        trainer.zero_grad()\n",
    "        l.backward()\n",
    "        trainer.step()\n",
    "    epoch_l = loss(model(features), labels)\n",
    "    print(f'epoch {i}, loss {epoch_l}')"
   ]
  }
 ],
 "metadata": {
  "kernelspec": {
   "display_name": "Python 3 (ipykernel)",
   "language": "python",
   "name": "python3"
  },
  "language_info": {
   "codemirror_mode": {
    "name": "ipython",
    "version": 3
   },
   "file_extension": ".py",
   "mimetype": "text/x-python",
   "name": "python",
   "nbconvert_exporter": "python",
   "pygments_lexer": "ipython3",
   "version": "3.9.2"
  }
 },
 "nbformat": 4,
 "nbformat_minor": 5
}
